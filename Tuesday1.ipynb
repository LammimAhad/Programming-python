{
 "cells": [
  {
   "cell_type": "code",
   "execution_count": 1,
   "metadata": {
    "collapsed": false
   },
   "outputs": [
    {
     "ename": "SyntaxError",
     "evalue": "invalid syntax (<ipython-input-1-31fea9c68626>, line 1)",
     "output_type": "error",
     "traceback": [
      "\u001b[0;36m  File \u001b[0;32m\"<ipython-input-1-31fea9c68626>\"\u001b[0;36m, line \u001b[0;32m1\u001b[0m\n\u001b[0;31m    git status\u001b[0m\n\u001b[0m             ^\u001b[0m\n\u001b[0;31mSyntaxError\u001b[0m\u001b[0;31m:\u001b[0m invalid syntax\n"
     ]
    }
   ],
   "source": [
    "git status\n"
   ]
  },
  {
   "cell_type": "code",
   "execution_count": 4,
   "metadata": {
    "collapsed": false
   },
   "outputs": [
    {
     "name": "stdout",
     "output_type": "stream",
     "text": [
      "# On branch master\r\n",
      "#\r\n",
      "# Initial commit\r\n",
      "#\r\n",
      "# Untracked files:\r\n",
      "#   (use \"git add <file>...\" to include in what will be committed)\r\n",
      "#\r\n",
      "#\t\u001b[31m.ipynb_checkpoints/\u001b[m\r\n",
      "#\t\u001b[31mTuesday 1.ipynb\u001b[m\r\n",
      "nothing added to commit but untracked files present (use \"git add\" to track)\r\n"
     ]
    }
   ],
   "source": [
    "!git status"
   ]
  },
  {
   "cell_type": "code",
   "execution_count": 16,
   "metadata": {
    "collapsed": false
   },
   "outputs": [],
   "source": [
    "!git add file2.ipynb\n"
   ]
  },
  {
   "cell_type": "code",
   "execution_count": 17,
   "metadata": {
    "collapsed": false
   },
   "outputs": [
    {
     "name": "stdout",
     "output_type": "stream",
     "text": [
      "# On branch master\r\n",
      "#\r\n",
      "# Initial commit\r\n",
      "#\r\n",
      "# Changes to be committed:\r\n",
      "#   (use \"git rm --cached <file>...\" to unstage)\r\n",
      "#\r\n",
      "#\t\u001b[32mnew file:   file2.ipynb\u001b[m\r\n",
      "#\r\n",
      "# Untracked files:\r\n",
      "#   (use \"git add <file>...\" to include in what will be committed)\r\n",
      "#\r\n",
      "#\t\u001b[31m.ipynb_checkpoints/\u001b[m\r\n",
      "#\t\u001b[31mTuesday 1.ipynb\u001b[m\r\n"
     ]
    }
   ],
   "source": [
    "!git status"
   ]
  },
  {
   "cell_type": "code",
   "execution_count": 18,
   "metadata": {
    "collapsed": false
   },
   "outputs": [
    {
     "name": "stdout",
     "output_type": "stream",
     "text": [
      "[master (root-commit) e4cfaf2] see if it works\r\n",
      " 1 file changed, 34 insertions(+)\r\n",
      " create mode 100644 file2.ipynb\r\n"
     ]
    }
   ],
   "source": [
    "!git commit -m \"see if it works\" file2.ipynb"
   ]
  },
  {
   "cell_type": "code",
   "execution_count": 19,
   "metadata": {
    "collapsed": false
   },
   "outputs": [
    {
     "name": "stdout",
     "output_type": "stream",
     "text": [
      "/home/csat8303/Python-tuesday\r\n"
     ]
    }
   ],
   "source": [
    "!pwd"
   ]
  },
  {
   "cell_type": "code",
   "execution_count": 24,
   "metadata": {
    "collapsed": false
   },
   "outputs": [],
   "source": [
    "!git add Tuesday1.ipynb"
   ]
  },
  {
   "cell_type": "code",
   "execution_count": 27,
   "metadata": {
    "collapsed": false
   },
   "outputs": [
    {
     "name": "stdout",
     "output_type": "stream",
     "text": [
      "[master bedc180] notes for today\r\n",
      " 1 file changed, 179 insertions(+)\r\n",
      " create mode 100644 Tuesday1.ipynb\r\n"
     ]
    }
   ],
   "source": [
    "!git commit -m \"notes for today\" Tuesday1.ipynb\n"
   ]
  },
  {
   "cell_type": "code",
   "execution_count": 28,
   "metadata": {
    "collapsed": false
   },
   "outputs": [
    {
     "name": "stdout",
     "output_type": "stream",
     "text": [
      "\u001b[33mcommit bedc1800e39c308e91dda73a1ac364d7f8c7a096\u001b[m\r\n",
      "Author: Syeda-Lammim-Ahad <syeda.lammim.ahad@gmail.com>\r\n",
      "Date:   Tue Jan 10 11:45:18 2017 +0100\r\n",
      "\r\n",
      "    notes for today\r\n",
      "\r\n",
      "\u001b[33mcommit e4cfaf2e92b2d0981e69b5db1836dfbc9d59e2a2\u001b[m\r\n",
      "Author: Syeda-Lammim-Ahad <syeda.lammim.ahad@gmail.com>\r\n",
      "Date:   Tue Jan 10 11:35:38 2017 +0100\r\n",
      "\r\n",
      "    see if it works\r\n"
     ]
    }
   ],
   "source": [
    "!git log"
   ]
  }
 ],
 "metadata": {
  "anaconda-cloud": {},
  "kernelspec": {
   "display_name": "Python [conda root]",
   "language": "python",
   "name": "conda-root-py"
  },
  "language_info": {
   "codemirror_mode": {
    "name": "ipython",
    "version": 2
   },
   "file_extension": ".py",
   "mimetype": "text/x-python",
   "name": "python",
   "nbconvert_exporter": "python",
   "pygments_lexer": "ipython2",
   "version": "2.7.12"
  }
 },
 "nbformat": 4,
 "nbformat_minor": 1
}
